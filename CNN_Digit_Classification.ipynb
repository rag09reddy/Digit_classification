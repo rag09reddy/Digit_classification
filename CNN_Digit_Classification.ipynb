{
  "nbformat": 4,
  "nbformat_minor": 0,
  "metadata": {
    "colab": {
      "provenance": [],
      "authorship_tag": "ABX9TyPy0ifkz/w+I76cyMylZTuC",
      "include_colab_link": true
    },
    "kernelspec": {
      "name": "python3",
      "display_name": "Python 3"
    },
    "language_info": {
      "name": "python"
    }
  },
  "cells": [
    {
      "cell_type": "markdown",
      "metadata": {
        "id": "view-in-github",
        "colab_type": "text"
      },
      "source": [
        "<a href=\"https://colab.research.google.com/github/rag09reddy/Digit_classification/blob/main/CNN_Digit_Classification.ipynb\" target=\"_parent\"><img src=\"https://colab.research.google.com/assets/colab-badge.svg\" alt=\"Open In Colab\"/></a>"
      ]
    },
    {
      "cell_type": "code",
      "execution_count": null,
      "metadata": {
        "id": "3UPHqQeqIT8L"
      },
      "outputs": [],
      "source": []
    },
    {
      "cell_type": "code",
      "source": [],
      "metadata": {
        "id": "otz68iDCInDU"
      },
      "execution_count": null,
      "outputs": []
    },
    {
      "cell_type": "code",
      "source": [
        "import numpy as np\n",
        "import tensorflow as tf\n",
        "import pandas as pd\n",
        "import seaborn as sns\n",
        "import matplotlib.pyplot as plt\n",
        "from sklearn.model_selection import train_test_split\n",
        "from sklearn.metrics import confusion_matrix\n",
        "import itertools\n",
        "\n",
        "from tensorflow.keras.models import Sequential\n",
        "from keras.layers import Dense, Dropout, Flatten, Conv2D, MaxPool2D\n",
        "from tensorflow.keras.activations import linear, relu, sigmoid\n",
        "\n",
        "from tensorflow.keras.utils import to_categorical\n",
        "\n",
        "from keras.optimizers import RMSprop\n",
        "from keras.preprocessing.image import ImageDataGenerator\n",
        "from keras.callbacks import ReduceLROnPlateau\n",
        "\n",
        "\n",
        "sns.set(style='white', context='notebook', palette='deep')\n"
      ],
      "metadata": {
        "id": "5HKF7PQFVeC1"
      },
      "execution_count": null,
      "outputs": []
    },
    {
      "cell_type": "code",
      "source": [
        "from google.colab import drive"
      ],
      "metadata": {
        "id": "wZXYlDEhVlmc"
      },
      "execution_count": null,
      "outputs": []
    },
    {
      "cell_type": "code",
      "source": [
        "drive.mount('/content/drive')"
      ],
      "metadata": {
        "id": "ozzPPCNkWgqf",
        "outputId": "13d1ced0-c00f-4c33-dead-09ad29ae8c9e",
        "colab": {
          "base_uri": "https://localhost:8080/"
        }
      },
      "execution_count": null,
      "outputs": [
        {
          "output_type": "stream",
          "name": "stdout",
          "text": [
            "Mounted at /content/drive\n"
          ]
        }
      ]
    },
    {
      "cell_type": "code",
      "source": [
        "train = pd.read_csv(\"/content/drive/MyDrive/Kaggle/train.csv\")\n",
        "test  = pd.read_csv(\"/content/drive/MyDrive/Kaggle/test.csv\")\n"
      ],
      "metadata": {
        "id": "KGOQxDJUXLY-"
      },
      "execution_count": null,
      "outputs": []
    },
    {
      "cell_type": "code",
      "source": [
        "print(train.shape)\n",
        "print(test.shape)"
      ],
      "metadata": {
        "id": "RL_hJnJfYP8w",
        "outputId": "93c54936-4626-4cd2-c538-90f2708599ef",
        "colab": {
          "base_uri": "https://localhost:8080/"
        }
      },
      "execution_count": null,
      "outputs": [
        {
          "output_type": "stream",
          "name": "stdout",
          "text": [
            "(42000, 785)\n",
            "(28000, 784)\n"
          ]
        }
      ]
    },
    {
      "cell_type": "markdown",
      "source": [
        "Here we are assigin the results as Y_train. As the results in the csv file are named under the column \"label\"\n",
        "\n",
        "Next in the Y_train we are droping that single label column. \"axis = 1\" shows that we are droping the column. \"if axis = 0\" then we are dropping the row"
      ],
      "metadata": {
        "id": "PYJQmykPo5vZ"
      }
    },
    {
      "cell_type": "code",
      "source": [
        "Y_train = train[\"label\"]\n",
        "X_train = train.drop(labels = [\"label\"],axis = 1)"
      ],
      "metadata": {
        "id": "JBk1APp6nsSu"
      },
      "execution_count": null,
      "outputs": []
    },
    {
      "cell_type": "code",
      "source": [
        "print(Y_train)\n",
        "print(X_train)"
      ],
      "metadata": {
        "id": "djwyt9WZn5o_",
        "outputId": "119619b8-5a4f-4249-deb7-9d0f0892b374",
        "colab": {
          "base_uri": "https://localhost:8080/"
        }
      },
      "execution_count": null,
      "outputs": [
        {
          "output_type": "stream",
          "name": "stdout",
          "text": [
            "0        1\n",
            "1        0\n",
            "2        1\n",
            "3        4\n",
            "4        0\n",
            "        ..\n",
            "41995    0\n",
            "41996    1\n",
            "41997    7\n",
            "41998    6\n",
            "41999    9\n",
            "Name: label, Length: 42000, dtype: int64\n",
            "       pixel0  pixel1  pixel2  pixel3  pixel4  pixel5  pixel6  pixel7  pixel8  \\\n",
            "0           0       0       0       0       0       0       0       0       0   \n",
            "1           0       0       0       0       0       0       0       0       0   \n",
            "2           0       0       0       0       0       0       0       0       0   \n",
            "3           0       0       0       0       0       0       0       0       0   \n",
            "4           0       0       0       0       0       0       0       0       0   \n",
            "...       ...     ...     ...     ...     ...     ...     ...     ...     ...   \n",
            "41995       0       0       0       0       0       0       0       0       0   \n",
            "41996       0       0       0       0       0       0       0       0       0   \n",
            "41997       0       0       0       0       0       0       0       0       0   \n",
            "41998       0       0       0       0       0       0       0       0       0   \n",
            "41999       0       0       0       0       0       0       0       0       0   \n",
            "\n",
            "       pixel9  ...  pixel774  pixel775  pixel776  pixel777  pixel778  \\\n",
            "0           0  ...         0         0         0         0         0   \n",
            "1           0  ...         0         0         0         0         0   \n",
            "2           0  ...         0         0         0         0         0   \n",
            "3           0  ...         0         0         0         0         0   \n",
            "4           0  ...         0         0         0         0         0   \n",
            "...       ...  ...       ...       ...       ...       ...       ...   \n",
            "41995       0  ...         0         0         0         0         0   \n",
            "41996       0  ...         0         0         0         0         0   \n",
            "41997       0  ...         0         0         0         0         0   \n",
            "41998       0  ...         0         0         0         0         0   \n",
            "41999       0  ...         0         0         0         0         0   \n",
            "\n",
            "       pixel779  pixel780  pixel781  pixel782  pixel783  \n",
            "0             0         0         0         0         0  \n",
            "1             0         0         0         0         0  \n",
            "2             0         0         0         0         0  \n",
            "3             0         0         0         0         0  \n",
            "4             0         0         0         0         0  \n",
            "...         ...       ...       ...       ...       ...  \n",
            "41995         0         0         0         0         0  \n",
            "41996         0         0         0         0         0  \n",
            "41997         0         0         0         0         0  \n",
            "41998         0         0         0         0         0  \n",
            "41999         0         0         0         0         0  \n",
            "\n",
            "[42000 rows x 784 columns]\n"
          ]
        }
      ]
    },
    {
      "cell_type": "code",
      "source": [
        "del train"
      ],
      "metadata": {
        "id": "qi_TRIMrpu7h"
      },
      "execution_count": null,
      "outputs": []
    },
    {
      "cell_type": "code",
      "source": [
        "sns.set(style='white', context='notebook', palette='deep')\n",
        "\n",
        "value_counts = Y_train.value_counts()\n",
        "g = sns.barplot(x=value_counts.index, y=value_counts.values)\n",
        "plt.show()\n",
        "value_counts"
      ],
      "metadata": {
        "id": "1OdnOQLop5ck",
        "outputId": "f48d3d92-7441-4f55-821f-a02997392616",
        "colab": {
          "base_uri": "https://localhost:8080/",
          "height": 625
        }
      },
      "execution_count": null,
      "outputs": [
        {
          "output_type": "display_data",
          "data": {
            "text/plain": [
              "<Figure size 640x480 with 1 Axes>"
            ],
            "image/png": "[encoded data removed]"
          },
          "metadata": {}
        },
        {
          "output_type": "execute_result",
          "data": {
            "text/plain": [
              "1    4684\n",
              "7    4401\n",
              "3    4351\n",
              "9    4188\n",
              "2    4177\n",
              "6    4137\n",
              "0    4132\n",
              "4    4072\n",
              "8    4063\n",
              "5    3795\n",
              "Name: label, dtype: int64"
            ]
          },
          "metadata": {},
          "execution_count": 9
        }
      ]
    },
    {
      "cell_type": "code",
      "source": [
        "X_train.isnull().any().describe()\n"
      ],
      "metadata": {
        "id": "5Yc5BGOXrtcQ",
        "outputId": "66751994-6f28-44bd-ab11-6c649eacb531",
        "colab": {
          "base_uri": "https://localhost:8080/"
        }
      },
      "execution_count": null,
      "outputs": [
        {
          "output_type": "execute_result",
          "data": {
            "text/plain": [
              "count       784\n",
              "unique        1\n",
              "top       False\n",
              "freq        784\n",
              "dtype: object"
            ]
          },
          "metadata": {},
          "execution_count": 10
        }
      ]
    },
    {
      "cell_type": "code",
      "source": [
        "test.isnull().any().describe()"
      ],
      "metadata": {
        "id": "IvyLt1bVr3FJ",
        "outputId": "1d6f87cf-627c-4f5d-bf67-633e092ac582",
        "colab": {
          "base_uri": "https://localhost:8080/"
        }
      },
      "execution_count": null,
      "outputs": [
        {
          "output_type": "execute_result",
          "data": {
            "text/plain": [
              "count       784\n",
              "unique        1\n",
              "top       False\n",
              "freq        784\n",
              "dtype: object"
            ]
          },
          "metadata": {},
          "execution_count": 11
        }
      ]
    },
    {
      "cell_type": "markdown",
      "source": [
        "Nrmalizing the Data now the pixel value can range between 0 to 255, but after normalization it will be between 0 and 1"
      ],
      "metadata": {
        "id": "LFZ2TkSev2bl"
      }
    },
    {
      "cell_type": "code",
      "source": [
        "X_train = X_train/255.0\n",
        "test = test/255.0"
      ],
      "metadata": {
        "id": "gbQoY5ONqxq6"
      },
      "execution_count": null,
      "outputs": []
    },
    {
      "cell_type": "markdown",
      "source": [
        "Now the Data is in the form of 1D array, i.e it has total 42000 Images and the each Image is us a single row which has 784 columns, which represent its pixel values, So we are reshapping it into 3D vector, (-1, 28, 28, 1).\n",
        "\n",
        "-1 = This represnts we are keeping the number of rows same i.e we are not altering it\n",
        "28 x 28 = Each Image that pixel size\n",
        "1 = For grey channels we use 1, if it was RGB we use 3"
      ],
      "metadata": {
        "id": "C27IcAnswPwP"
      }
    },
    {
      "cell_type": "code",
      "source": [
        "X_train = X_train.values.reshape(-1,28,28,1)\n",
        "test = test.values.reshape(-1,28,28,1)"
      ],
      "metadata": {
        "id": "lngwLopowPKY"
      },
      "execution_count": null,
      "outputs": []
    },
    {
      "cell_type": "markdown",
      "source": [
        "Label Encoding to one hot Vector (ex : 2 -> [0,0,1,0,0,0,0,0,0,0])\n",
        "                                 (ex : 3 -> [0,0,0,1,0,0,0,0,0,0])"
      ],
      "metadata": {
        "id": "XhOAw6x-2Efb"
      }
    },
    {
      "cell_type": "code",
      "source": [
        "Y_train = to_categorical(Y_train, num_classes = 10)\n"
      ],
      "metadata": {
        "id": "rOwNRWhI2ZEH"
      },
      "execution_count": null,
      "outputs": []
    },
    {
      "cell_type": "markdown",
      "source": [
        "Here I will be using the Normal Neuarl network to solve the problem first as shown in the second exercise of the ML class"
      ],
      "metadata": {
        "id": "aHe5jaZa3tWu"
      }
    },
    {
      "cell_type": "markdown",
      "source": [
        "Splitting the tarining set into validation set\n"
      ],
      "metadata": {
        "id": "IzpSJ70UjRUW"
      }
    },
    {
      "cell_type": "code",
      "source": [
        "random_seed = 2"
      ],
      "metadata": {
        "id": "JWwUEgRBjQgk"
      },
      "execution_count": null,
      "outputs": []
    },
    {
      "cell_type": "code",
      "source": [
        "X_train, X_val, Y_train, Y_val = train_test_split(X_train, Y_train, test_size = 0.1, random_state=random_seed)"
      ],
      "metadata": {
        "id": "iA5K5clljQHm"
      },
      "execution_count": null,
      "outputs": []
    },
    {
      "cell_type": "code",
      "source": [
        "g = plt.imshow(X_train[0][:,:,0])\n"
      ],
      "metadata": {
        "id": "MtJZdArHkCPT",
        "outputId": "fe78e850-fce5-49f9-ed76-492f9378c59c",
        "colab": {
          "base_uri": "https://localhost:8080/",
          "height": 434
        }
      },
      "execution_count": null,
      "outputs": [
        {
          "output_type": "display_data",
          "data": {
            "text/plain": [
              "<Figure size 640x480 with 1 Axes>"
            ],
            "image/png": "[encoded data removed]"
          },
          "metadata": {}
        }
      ]
    },
    {
      "cell_type": "markdown",
      "source": [
        "Buiding the CNN Model"
      ],
      "metadata": {
        "id": "3pvqOnmckPUu"
      }
    },
    {
      "cell_type": "markdown",
      "source": [
        "The Keras Sequential API is a convenient way to build neural networks layer by layer, starting from the input. In this architecture, you typically begin with a Convolutional (Conv2D) layer. This layer consists of learnable filters that transform parts of the input image using kernel filters. Each filter applies a matrix transformation across the entire image, effectively isolating features. You mentioned that you chose 32 filters for the first two Conv2D layers and 64 filters for the last two, which is a common configuration.\n",
        "\n",
        "Pooling layers (MaxPool2D) are the second crucial component in CNNs. They act as downsampling filters by selecting the maximum value from neighboring pixels. This operation reduces computational cost and can help prevent overfitting. The pooling size determines how much downsampling occurs, with larger pooling sizes resulting in more significant downsampling.\n",
        "\n",
        "By combining Convolutional and Pooling layers, CNNs can capture both local and global features within an image.\n",
        "\n",
        "Dropout is a regularization technique that randomly deactivates a portion of nodes in a layer during each training sample. This process forces the network to learn features in a more distributed manner, ultimately improving generalization and reducing overfitting.\n",
        "\n",
        "The 'relu' activation function (max(0, x)) introduces non-linearity into the network, allowing it to model complex relationships in the data.\n",
        "\n",
        "The Flatten layer is crucial for converting the final feature maps into a 1D vector. This step is necessary to use fully connected (Dense) layers after convolutional and max-pooling layers. It essentially combines all the local features learned in previous layers.\n",
        "\n",
        "Finally, you used two fully-connected (Dense) layers for classification, which function as artificial neural networks (ANN) classifiers. The last Dense layer (Dense(10, activation=\"softmax\")) outputs a probability distribution for each class, indicating the likelihood of the input belonging to each class.\n",
        "\n",
        "In summary, your CNN architecture starts with Convolutional layers to extract features, followed by Pooling layers for downsampling. Dropout is used for regularization, 'relu' for non-linearity, Flatten to convert features, and Dense layers for classification. The final output layer provides class probabilities using the softmax activation function."
      ],
      "metadata": {
        "id": "2-P2PLP3l5c4"
      }
    },
    {
      "cell_type": "code",
      "source": [
        "model = Sequential()\n",
        "\n",
        "model.add(Conv2D(filters = 32, kernel_size = (5,5),padding = 'Same',\n",
        "                 activation ='relu', input_shape = (28,28,1)))\n",
        "model.add(Conv2D(filters = 32, kernel_size = (5,5),padding = 'Same',\n",
        "                 activation ='relu'))\n",
        "model.add(MaxPool2D(pool_size=(2,2)))\n",
        "model.add(Dropout(0.25))\n",
        "\n",
        "\n",
        "model.add(Conv2D(filters = 64, kernel_size = (3,3),padding = 'Same',\n",
        "                 activation ='relu'))\n",
        "model.add(Conv2D(filters = 64, kernel_size = (3,3),padding = 'Same',\n",
        "                 activation ='relu'))\n",
        "model.add(MaxPool2D(pool_size=(2,2), strides=(2,2)))\n",
        "model.add(Dropout(0.25))\n",
        "\n",
        "\n",
        "model.add(Flatten())\n",
        "model.add(Dense(256, activation = \"relu\"))\n",
        "model.add(Dropout(0.5))\n",
        "model.add(Dense(10, activation = \"softmax\"))"
      ],
      "metadata": {
        "id": "ydnW1NSWkSEd"
      },
      "execution_count": null,
      "outputs": []
    },
    {
      "cell_type": "markdown",
      "source": [
        "Choosing the Optimser, Compiler and the learning rate for the Model"
      ],
      "metadata": {
        "id": "RoaW0oIvCdvv"
      }
    },
    {
      "cell_type": "code",
      "source": [
        "from keras.optimizers import RMSprop\n",
        "\n",
        "# Define the optimizer with decay using the legacy optimizer\n",
        "optimizer = tf.keras.optimizers.legacy.RMSprop(learning_rate=0.001, rho=0.9, epsilon=1e-08, decay=0.0)\n",
        "\n",
        "# Compile your model using this optimizer\n",
        "model.compile(optimizer=optimizer, loss='categorical_crossentropy', metrics=['accuracy'])\n"
      ],
      "metadata": {
        "id": "fY4GHZOgmZu7"
      },
      "execution_count": null,
      "outputs": []
    },
    {
      "cell_type": "code",
      "source": [
        "# Set a learning rate annealer\n",
        "learning_rate_reduction = ReduceLROnPlateau(monitor='val_acc',\n",
        "                                            patience=3,\n",
        "                                            verbose=1,\n",
        "                                            factor=0.5,\n",
        "                                            min_lr=0.00001)"
      ],
      "metadata": {
        "id": "FMl1JXVhmZr9"
      },
      "execution_count": null,
      "outputs": []
    },
    {
      "cell_type": "code",
      "source": [
        "epochs = 1 # Turn epochs to 30 to get 0.9967 accuracy\n",
        "batch_size = 86"
      ],
      "metadata": {
        "id": "O8CLDIN9mZoi"
      },
      "execution_count": null,
      "outputs": []
    },
    {
      "cell_type": "markdown",
      "source": [
        "**Data Agumentation**: To mitigate the overfitting problem in deep learning, it's common practice to employ data augmentation techniques. These techniques involve making artificial alterations to the training data while keeping the labels the same. The goal is to introduce variations that mimic real-world scenarios and help the model generalize better. Here are some key data augmentation approaches:\n",
        "\n",
        "1. **Centering and Scaling**: Many handwritten digits may not be perfectly centered or may have varying sizes. You can apply transformations to center and scale the digits within the image.\n",
        "\n",
        "2. **Rotation**: To account for variations in how people write digits, you can introduce random rotations to the images. This helps the model become robust to differently oriented digits.\n",
        "\n",
        "3. **Grayscale**: Converting images to grayscale can make the model invariant to variations in color, as handwritten digits might have different ink shades.\n",
        "\n",
        "4. **Flipping**: Horizontal and vertical flips can create new training samples by mirroring the existing ones. This can help the model learn features from different orientations.\n",
        "\n",
        "5. **Random Crops**: Cropping parts of the image at random positions and sizes can simulate variations in how digits are written within a larger canvas.\n",
        "\n",
        "6. **Color Jitter**: Introducing small variations in color, such as brightness and contrast adjustments, can make the model more resilient to differences in writing style.\n",
        "\n",
        "7. **Translations**: Slight translations of the image (shifting it horizontally or vertically) can simulate variations in the position of the digit within the image.\n",
        "\n",
        "8. **Noise Addition**: Adding random noise to the image can mimic imperfections in the writing or scanning process.\n",
        "\n",
        "By applying a combination of these transformations to your existing dataset, you can significantly increase the effective size of your training data. This helps the model generalize better to unseen data and become more robust to various writing styles and conditions.\n",
        "\n",
        "Data augmentation is a powerful tool for improving the performance of deep learning models, especially when you have limited labeled data. It allows you to create a more diverse and representative training dataset, reducing the risk of overfitting and improving the model's ability to handle real-world variations in the data."
      ],
      "metadata": {
        "id": "X8p6NL1fEAnH"
      }
    },
    {
      "cell_type": "code",
      "source": [
        "datagen = ImageDataGenerator(\n",
        "        featurewise_center=False,  # set input mean to 0 over the dataset\n",
        "        samplewise_center=False,  # set each sample mean to 0\n",
        "        featurewise_std_normalization=False,  # divide inputs by std of the dataset\n",
        "        samplewise_std_normalization=False,  # divide each input by its std\n",
        "        zca_whitening=False,  # apply ZCA whitening\n",
        "        rotation_range=10,  # randomly rotate images in the range (degrees, 0 to 180)\n",
        "        zoom_range = 0.1, # Randomly zoom image\n",
        "        width_shift_range=0.1,  # randomly shift images horizontally (fraction of total width)\n",
        "        height_shift_range=0.1,  # randomly shift images vertically (fraction of total height)\n",
        "        horizontal_flip=False,  # randomly flip images\n",
        "        vertical_flip=False)  # randomly flip images\n",
        "\n",
        "\n",
        "datagen.fit(X_train)"
      ],
      "metadata": {
        "id": "IO6maJzZmZlW"
      },
      "execution_count": null,
      "outputs": []
    },
    {
      "cell_type": "code",
      "source": [
        " #Fit the model\n",
        "history = model.fit_generator(datagen.flow(X_train,Y_train, batch_size=batch_size),\n",
        "                              epochs = epochs, validation_data = (X_val,Y_val),\n",
        "                              verbose = 2, steps_per_epoch=X_train.shape[0] // batch_size\n",
        "                              , callbacks=[learning_rate_reduction])"
      ],
      "metadata": {
        "id": "JVz3jb9AmZh1",
        "outputId": "0fffff8e-181b-4617-8b5b-6c3fede1d6b6",
        "colab": {
          "base_uri": "https://localhost:8080/"
        }
      },
      "execution_count": null,
      "outputs": [
        {
          "output_type": "stream",
          "name": "stderr",
          "text": [
            "<ipython-input-47-2ac951b01d79>:2: UserWarning: `Model.fit_generator` is deprecated and will be removed in a future version. Please use `Model.fit`, which supports generators.\n",
            "  history = model.fit_generator(datagen.flow(X_train,Y_train, batch_size=batch_size),\n",
            "WARNING:tensorflow:Learning rate reduction is conditioned on metric `val_acc` which is not available. Available metrics are: loss,accuracy,val_loss,val_accuracy,lr\n"
          ]
        },
        {
          "output_type": "stream",
          "name": "stdout",
          "text": [
            "439/439 - 159s - loss: 0.9447 - accuracy: 0.6792 - val_loss: 0.2052 - val_accuracy: 0.9348 - lr: 0.0010 - 159s/epoch - 362ms/step\n"
          ]
        }
      ]
    },
    {
      "cell_type": "markdown",
      "source": [
        "**Evaluating the model**"
      ],
      "metadata": {
        "id": "10QPExnLE-gu"
      }
    },
    {
      "cell_type": "code",
      "source": [
        "# Plot the loss and accuracy curves for training and validation\n",
        "fig, ax = plt.subplots(2,1)\n",
        "ax[0].plot(history.history['loss'], color='b', label=\"Training loss\")\n",
        "ax[0].plot(history.history['val_loss'], color='r', label=\"validation loss\",axes =ax[0])\n",
        "legend = ax[0].legend(loc='best', shadow=True)\n",
        "\n",
        "ax[1].plot(history.history['accuracy'], color='b', label=\"Training accuracy\")\n",
        "ax[1].plot(history.history['val_accuracy'], color='r',label=\"Validation accuracy\")\n",
        "legend = ax[1].legend(loc='best', shadow=True)\n",
        "plt.legend(loc='best', shadow=True)\n"
      ],
      "metadata": {
        "id": "DNqzBfDoE-R0",
        "outputId": "171a169a-2c80-4bd7-8998-8858b81cc489",
        "colab": {
          "base_uri": "https://localhost:8080/",
          "height": 452
        }
      },
      "execution_count": null,
      "outputs": [
        {
          "output_type": "execute_result",
          "data": {
            "text/plain": [
              "<matplotlib.legend.Legend at 0x7efdac6bd660>"
            ]
          },
          "metadata": {},
          "execution_count": 51
        },
        {
          "output_type": "display_data",
          "data": {
            "text/plain": [
              "<Figure size 640x480 with 2 Axes>"
            ],
            "image/png": "[encoded data removed]"
          },
          "metadata": {}
        }
      ]
    },
    {
      "cell_type": "markdown",
      "source": [
        "**Confusion Matrix** : Confusion matrix can be very helpfull to see your model drawbacks."
      ],
      "metadata": {
        "id": "itcCU9RKG3GG"
      }
    },
    {
      "cell_type": "code",
      "source": [
        "# Look at confusion matrix\n",
        "\n",
        "def plot_confusion_matrix(cm, classes,\n",
        "                          normalize=False,\n",
        "                          title='Confusion matrix',\n",
        "                          cmap=plt.cm.Blues):\n",
        "    \"\"\"\n",
        "    This function prints and plots the confusion matrix.\n",
        "    Normalization can be applied by setting `normalize=True`.\n",
        "    \"\"\"\n",
        "    plt.imshow(cm, interpolation='nearest', cmap=cmap)\n",
        "    plt.title(title)\n",
        "    plt.colorbar()\n",
        "    tick_marks = np.arange(len(classes))\n",
        "    plt.xticks(tick_marks, classes, rotation=45)\n",
        "    plt.yticks(tick_marks, classes)\n",
        "\n",
        "    if normalize:\n",
        "        cm = cm.astype('float') / cm.sum(axis=1)[:, np.newaxis]\n",
        "\n",
        "    thresh = cm.max() / 2.\n",
        "    for i, j in itertools.product(range(cm.shape[0]), range(cm.shape[1])):\n",
        "        plt.text(j, i, cm[i, j],\n",
        "                 horizontalalignment=\"center\",\n",
        "                 color=\"white\" if cm[i, j] > thresh else \"black\")\n",
        "    plt.tight_layout()\n",
        "    plt.ylabel('True label')\n",
        "    plt.xlabel('Predicted label')\n",
        "\n",
        "\n",
        "# Predict the values from the validation dataset\n",
        "Y_pred = model.predict(X_val)\n",
        "# Convert predictions classes to one hot vectors\n",
        "Y_pred_classes = np.argmax(Y_pred,axis = 1)\n",
        "# Convert validation observations to one hot vectors\n",
        "Y_true = np.argmax(Y_val,axis = 1)\n",
        "# compute the confusion matrix\n",
        "confusion_mtx = confusion_matrix(Y_true, Y_pred_classes)\n",
        "# plot the confusion matrix\n",
        "plot_confusion_matrix(confusion_mtx, classes = range(10))"
      ],
      "metadata": {
        "id": "O0jGhLALG260",
        "outputId": "ddd14944-1d42-47e9-8098-dc8b9d06adce",
        "colab": {
          "base_uri": "https://localhost:8080/",
          "height": 522
        }
      },
      "execution_count": null,
      "outputs": [
        {
          "output_type": "stream",
          "name": "stdout",
          "text": [
            "132/132 [==============================] - 5s 34ms/step\n"
          ]
        },
        {
          "output_type": "display_data",
          "data": {
            "text/plain": [
              "<Figure size 640x480 with 2 Axes>"
            ],
            "image/png": "[encoded data removed]"
          },
          "metadata": {}
        }
      ]
    },
    {
      "cell_type": "code",
      "source": [
        "# predict results\n",
        "results = model.predict(test)\n",
        "\n",
        "# select the indix with the maximum probability\n",
        "results = np.argmax(results,axis = 1)\n",
        "\n",
        "results = pd.Series(results,name=\"Label\")"
      ],
      "metadata": {
        "id": "7MOXRFu6E-OP",
        "outputId": "fda27d23-ceee-4bf6-de8d-55fef8a23138",
        "colab": {
          "base_uri": "https://localhost:8080/"
        }
      },
      "execution_count": null,
      "outputs": [
        {
          "output_type": "stream",
          "name": "stdout",
          "text": [
            "875/875 [==============================] - 43s 49ms/step\n"
          ]
        }
      ]
    },
    {
      "cell_type": "code",
      "source": [
        "submission = pd.concat([pd.Series(range(1,28001),name = \"ImageId\"),results],axis = 1)\n",
        "file_path = '/content/drive/MyDrive/Kaggle/prediction_CNN_1.csv'\n",
        "\n",
        "submission.to_csv(file_path,index=False)"
      ],
      "metadata": {
        "id": "HEI_Uv8TE-IF"
      },
      "execution_count": null,
      "outputs": []
    }
  ]
}